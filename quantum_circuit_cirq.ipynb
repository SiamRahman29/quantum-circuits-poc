{
  "nbformat": 4,
  "nbformat_minor": 0,
  "metadata": {
    "colab": {
      "provenance": [],
      "gpuType": "T4",
      "authorship_tag": "ABX9TyPFtaOMdT25tl4SpahPscsu",
      "include_colab_link": true
    },
    "kernelspec": {
      "name": "python3",
      "display_name": "Python 3"
    },
    "language_info": {
      "name": "python"
    },
    "accelerator": "GPU"
  },
  "cells": [
    {
      "cell_type": "markdown",
      "metadata": {
        "id": "view-in-github",
        "colab_type": "text"
      },
      "source": [
        "<a href=\"https://colab.research.google.com/github/ericyoc/quantum-circuits/blob/main/quantum_circuit_cirq.ipynb\" target=\"_parent\"><img src=\"https://colab.research.google.com/assets/colab-badge.svg\" alt=\"Open In Colab\"/></a>"
      ]
    },
    {
      "cell_type": "markdown",
      "source": [
        "Cirq (Google)"
      ],
      "metadata": {
        "id": "2dvyk7W9fQn5"
      }
    },
    {
      "cell_type": "code",
      "source": [
        "#!pip install cirq\n",
        "import cirq\n",
        "import tensorflow as tf\n",
        "from tensorflow.keras.datasets import mnist\n",
        "import numpy as np\n",
        "import matplotlib.pyplot as plt"
      ],
      "metadata": {
        "id": "AIuMZ1QDkZ5H"
      },
      "execution_count": 3,
      "outputs": []
    },
    {
      "cell_type": "code",
      "source": [
        "# Set GPU memory growth\n",
        "physical_devices = tf.config.list_physical_devices('GPU')\n",
        "if len(physical_devices) > 0:\n",
        "    tf.config.experimental.set_memory_growth(physical_devices[0], True)"
      ],
      "metadata": {
        "id": "to-Pm1LRsga4"
      },
      "execution_count": 4,
      "outputs": []
    },
    {
      "cell_type": "code",
      "source": [
        "def create_cirq_circuit():\n",
        "    # Load MNIST dataset\n",
        "    (train_data, train_labels), (test_data, test_labels) = mnist.load_data()\n",
        "\n",
        "    # Normalize the input data\n",
        "    train_data = train_data / 255.0\n",
        "    test_data = test_data / 255.0\n",
        "\n",
        "    # Reshape the input data\n",
        "    train_data = train_data.reshape((train_data.shape[0], 28, 28, 1))\n",
        "    test_data = test_data.reshape((test_data.shape[0], 28, 28, 1))\n",
        "\n",
        "    # Create a quantum circuit for image classification\n",
        "    qubits = cirq.GridQubit.rect(2, 2)\n",
        "    circuit = cirq.Circuit()\n",
        "\n",
        "    # Apply quantum operations to the qubits\n",
        "    circuit.append(cirq.H(qubits[0]))\n",
        "    circuit.append(cirq.CNOT(qubits[0], qubits[1]))\n",
        "    circuit.append(cirq.CNOT(qubits[1], qubits[2]))\n",
        "    circuit.append(cirq.CNOT(qubits[2], qubits[3]))\n",
        "\n",
        "    # Create a classical model\n",
        "    with tf.device('/GPU:0'):  # Use GPU for model creation and training\n",
        "        model = tf.keras.Sequential([\n",
        "            tf.keras.layers.Flatten(input_shape=(28, 28, 1)),\n",
        "            tf.keras.layers.Dense(64, activation='relu'),\n",
        "            tf.keras.layers.Dense(10, activation='softmax')\n",
        "        ])\n",
        "\n",
        "        # Compile the model\n",
        "        model.compile(optimizer=tf.keras.optimizers.Adam(learning_rate=0.1),\n",
        "                      loss=tf.keras.losses.SparseCategoricalCrossentropy(),\n",
        "                      metrics=['accuracy'])\n",
        "\n",
        "        # Train the model\n",
        "        model.fit(train_data, train_labels, epochs=10, batch_size=32)\n",
        "\n",
        "    # Get the circuit diagram\n",
        "    circuit_diagram = circuit.to_text_diagram()\n",
        "\n",
        "    return model, test_data, circuit_diagram"
      ],
      "metadata": {
        "id": "6hFJMjx0f0dy"
      },
      "execution_count": 5,
      "outputs": []
    },
    {
      "cell_type": "code",
      "source": [
        "# Call the function to create the model and get the circuit diagram\n",
        "model, test_data, diagram = create_cirq_circuit()"
      ],
      "metadata": {
        "colab": {
          "base_uri": "https://localhost:8080/"
        },
        "id": "c3mK6tFVf2R-",
        "outputId": "453084a5-5a5b-4af3-c4eb-96c2df1e0511"
      },
      "execution_count": 6,
      "outputs": [
        {
          "output_type": "stream",
          "name": "stdout",
          "text": [
            "Downloading data from https://storage.googleapis.com/tensorflow/tf-keras-datasets/mnist.npz\n",
            "11490434/11490434 [==============================] - 0s 0us/step\n",
            "Epoch 1/10\n",
            "1875/1875 [==============================] - 7s 3ms/step - loss: 1.2668 - accuracy: 0.5931\n",
            "Epoch 2/10\n",
            "1875/1875 [==============================] - 4s 2ms/step - loss: 1.3367 - accuracy: 0.5325\n",
            "Epoch 3/10\n",
            "1875/1875 [==============================] - 4s 2ms/step - loss: 1.4081 - accuracy: 0.5069\n",
            "Epoch 4/10\n",
            "1875/1875 [==============================] - 5s 3ms/step - loss: 1.3981 - accuracy: 0.4900\n",
            "Epoch 5/10\n",
            "1875/1875 [==============================] - 5s 3ms/step - loss: 1.4072 - accuracy: 0.4898\n",
            "Epoch 6/10\n",
            "1875/1875 [==============================] - 5s 2ms/step - loss: 1.5131 - accuracy: 0.4522\n",
            "Epoch 7/10\n",
            "1875/1875 [==============================] - 4s 2ms/step - loss: 1.4880 - accuracy: 0.4525\n",
            "Epoch 8/10\n",
            "1875/1875 [==============================] - 4s 2ms/step - loss: 1.4292 - accuracy: 0.4785\n",
            "Epoch 9/10\n",
            "1875/1875 [==============================] - 5s 3ms/step - loss: 1.4318 - accuracy: 0.4719\n",
            "Epoch 10/10\n",
            "1875/1875 [==============================] - 4s 2ms/step - loss: 1.4151 - accuracy: 0.4771\n"
          ]
        }
      ]
    },
    {
      "cell_type": "code",
      "source": [
        "# Predict the digit for a test image\n",
        "test_image = test_data[0]\n",
        "predicted_digit = model.predict(test_image[np.newaxis, ...])\n",
        "predicted_digit = np.argmax(predicted_digit)\n",
        "print(f\"Predicted digit: {predicted_digit}\")"
      ],
      "metadata": {
        "colab": {
          "base_uri": "https://localhost:8080/"
        },
        "id": "mLCeQQlSrfqi",
        "outputId": "8f370600-45d4-4967-f74c-13aabca6f73c"
      },
      "execution_count": 7,
      "outputs": [
        {
          "output_type": "stream",
          "name": "stdout",
          "text": [
            "1/1 [==============================] - 0s 91ms/step\n",
            "Predicted digit: 7\n"
          ]
        }
      ]
    },
    {
      "cell_type": "code",
      "source": [
        "print(\"Circuit Diagram:\")\n",
        "print(diagram)"
      ],
      "metadata": {
        "colab": {
          "base_uri": "https://localhost:8080/"
        },
        "id": "pD-9hQTsrEM7",
        "outputId": "dc98278f-41e5-4049-a4d8-c37018c2b788"
      },
      "execution_count": 8,
      "outputs": [
        {
          "output_type": "stream",
          "name": "stdout",
          "text": [
            "Circuit Diagram:\n",
            "(0, 0): ───H───@───────────\n",
            "               │\n",
            "(0, 1): ───────X───@───────\n",
            "                   │\n",
            "(1, 0): ───────────X───@───\n",
            "                       │\n",
            "(1, 1): ───────────────X───\n"
          ]
        }
      ]
    }
  ]
}